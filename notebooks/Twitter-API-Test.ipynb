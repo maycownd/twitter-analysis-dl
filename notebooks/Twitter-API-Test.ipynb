{
 "cells": [
  {
   "cell_type": "markdown",
   "metadata": {},
   "source": [
    "# Imports"
   ]
  },
  {
   "cell_type": "code",
   "execution_count": 2,
   "metadata": {},
   "outputs": [],
   "source": [
    "import sys\n",
    "sys.path.insert(0,'../src/')"
   ]
  },
  {
   "cell_type": "code",
   "execution_count": 9,
   "metadata": {},
   "outputs": [],
   "source": [
    "import tweepy as tw\n",
    "import pandas as pd\n",
    "from dotenv import load_dotenv\n",
    "import os"
   ]
  },
  {
   "cell_type": "markdown",
   "metadata": {},
   "source": [
    "# Configs"
   ]
  },
  {
   "cell_type": "markdown",
   "metadata": {},
   "source": [
    "## DotEnv (.env)"
   ]
  },
  {
   "cell_type": "code",
   "execution_count": 10,
   "metadata": {},
   "outputs": [
    {
     "data": {
      "text/plain": [
       "True"
      ]
     },
     "execution_count": 10,
     "metadata": {},
     "output_type": "execute_result"
    }
   ],
   "source": [
    "load_dotenv()"
   ]
  },
  {
   "cell_type": "code",
   "execution_count": 16,
   "metadata": {},
   "outputs": [],
   "source": [
    "consumer_key= os.getenv(\"CONSUMER_KEY\")\n",
    "consumer_secret= os.getenv(\"CONSUMER_SECRET\")\n",
    "access_token= os.getenv(\"ACCESS_TOKEN\")\n",
    "access_token_secret= os.getenv(\"ACCESS_TOKEN_SECRET\")"
   ]
  },
  {
   "cell_type": "markdown",
   "metadata": {},
   "source": [
    "## Auth API"
   ]
  },
  {
   "cell_type": "code",
   "execution_count": 17,
   "metadata": {},
   "outputs": [],
   "source": [
    "auth = tw.OAuthHandler(consumer_key, consumer_secret)\n",
    "auth.set_access_token(access_token, access_token_secret)\n",
    "api = tw.API(auth, wait_on_rate_limit=True)\n",
    "\n"
   ]
  },
  {
   "cell_type": "markdown",
   "metadata": {},
   "source": [
    "## Variables"
   ]
  },
  {
   "cell_type": "code",
   "execution_count": 18,
   "metadata": {},
   "outputs": [],
   "source": [
    "search_words = \"#ambev\"\n",
    "date_since = \"2018-11-16\""
   ]
  },
  {
   "cell_type": "code",
   "execution_count": 21,
   "metadata": {},
   "outputs": [
    {
     "name": "stdout",
     "output_type": "stream",
     "text": [
      "Veja 10 fatos sobre a #AMBEV - #ABEV3 com Tiago Reis e Pit Money\n",
      "https://t.co/ELLKNxMYsc\n",
      "Ambev assinou contratos com quatro diferentes parceiros para construção de 31 usinas solares até março do ano que v… https://t.co/wBPoDnDH5z\n",
      "Ambev firma acordo de R$ 140 mi para construção de 31 usinas solares no Brasil: https://t.co/cFOHGeHwwV\n",
      "#Ambev… https://t.co/x7sk1wB4MW\n",
      "RT @investe1tempo: Siga-nos em nossas outras redes sociais, todas estão no LINK da BIO do perfil. E outra coisa, confere lá o nosso CANAL n…\n",
      "Siga-nos em nossas outras redes sociais, todas estão no LINK da BIO do perfil. E outra coisa, confere lá o nosso CA… https://t.co/4603zx9625\n"
     ]
    }
   ],
   "source": [
    "# Collect tweets\n",
    "tweets = tw.Cursor(api.search,\n",
    "              q=search_words,\n",
    "              lang=\"pt\",\n",
    "              since=date_since).items(5)\n",
    "\n",
    "# Iterate on tweets\n",
    "for tweet in tweets:\n",
    "    print(tweet.text)\n"
   ]
  },
  {
   "cell_type": "code",
   "execution_count": 22,
   "metadata": {},
   "outputs": [
    {
     "data": {
      "text/plain": [
       "['Veja 10 fatos sobre a #AMBEV - #ABEV3 com Tiago Reis e Pit Money\\nhttps://t.co/ELLKNxMYsc',\n",
       " 'Ambev assinou contratos com quatro diferentes parceiros para construção de 31 usinas solares até março do ano que v… https://t.co/wBPoDnDH5z',\n",
       " 'Ambev firma acordo de R$ 140 mi para construção de 31 usinas solares no Brasil: https://t.co/cFOHGeHwwV\\n#Ambev… https://t.co/x7sk1wB4MW',\n",
       " 'RT @investe1tempo: Siga-nos em nossas outras redes sociais, todas estão no LINK da BIO do perfil. E outra coisa, confere lá o nosso CANAL n…',\n",
       " 'Siga-nos em nossas outras redes sociais, todas estão no LINK da BIO do perfil. E outra coisa, confere lá o nosso CA… https://t.co/4603zx9625']"
      ]
     },
     "execution_count": 22,
     "metadata": {},
     "output_type": "execute_result"
    }
   ],
   "source": [
    "# Collect tweets\n",
    "tweets = tw.Cursor(api.search,\n",
    "                       q=search_words,\n",
    "                       lang=\"pt\",\n",
    "                       since=date_since).items(5)\n",
    "\n",
    "# Collect a list of tweets\n",
    "[tweet.text for tweet in tweets]\n"
   ]
  },
  {
   "cell_type": "code",
   "execution_count": 23,
   "metadata": {},
   "outputs": [
    {
     "data": {
      "text/plain": [
       "'#ambev -filter:retweets'"
      ]
     },
     "execution_count": 23,
     "metadata": {},
     "output_type": "execute_result"
    }
   ],
   "source": [
    "new_search = search_words + \" -filter:retweets\"\n",
    "new_search\n"
   ]
  },
  {
   "cell_type": "code",
   "execution_count": 25,
   "metadata": {},
   "outputs": [
    {
     "data": {
      "text/plain": [
       "['Veja 10 fatos sobre a #AMBEV - #ABEV3 com Tiago Reis e Pit Money\\nhttps://t.co/ELLKNxMYsc',\n",
       " 'Ambev assinou contratos com quatro diferentes parceiros para construção de 31 usinas solares até março do ano que v… https://t.co/wBPoDnDH5z',\n",
       " 'Ambev firma acordo de R$ 140 mi para construção de 31 usinas solares no Brasil: https://t.co/cFOHGeHwwV\\n#Ambev… https://t.co/x7sk1wB4MW',\n",
       " 'Siga-nos em nossas outras redes sociais, todas estão no LINK da BIO do perfil. E outra coisa, confere lá o nosso CA… https://t.co/4603zx9625',\n",
       " 'Novas recomendações semanais!\\nInvista com os nossos analistas!\\n#ambev #bbseguridade #eletrobras #estacio #weg… https://t.co/RFmlm1CKcJ']"
      ]
     },
     "execution_count": 25,
     "metadata": {},
     "output_type": "execute_result"
    }
   ],
   "source": [
    "tweets = tw.Cursor(api.search,\n",
    "                       q=new_search,\n",
    "                       lang=\"pt\",\n",
    "                       since=date_since).items(5)\n",
    "\n",
    "[tweet.text for tweet in tweets]\n"
   ]
  },
  {
   "cell_type": "code",
   "execution_count": 26,
   "metadata": {},
   "outputs": [
    {
     "data": {
      "text/plain": [
       "[['SunoResearchcom', 'Sao Paulo, Brazil'],\n",
       " ['SoliensS', ''],\n",
       " ['logweb_editora', 'São Paulo, Brasil'],\n",
       " ['investe1tempo', ''],\n",
       " ['nfinvestimentos', '']]"
      ]
     },
     "execution_count": 26,
     "metadata": {},
     "output_type": "execute_result"
    }
   ],
   "source": [
    "tweets = tw.Cursor(api.search, \n",
    "                           q=new_search,\n",
    "                           lang=\"pt\",\n",
    "                           since=date_since).items(5)\n",
    "\n",
    "\n",
    "users_locs = [[tweet.user.screen_name, tweet.user.location] for tweet in tweets]\n",
    "users_locs\n"
   ]
  },
  {
   "cell_type": "code",
   "execution_count": 27,
   "metadata": {},
   "outputs": [
    {
     "data": {
      "text/html": [
       "<div>\n",
       "<style scoped>\n",
       "    .dataframe tbody tr th:only-of-type {\n",
       "        vertical-align: middle;\n",
       "    }\n",
       "\n",
       "    .dataframe tbody tr th {\n",
       "        vertical-align: top;\n",
       "    }\n",
       "\n",
       "    .dataframe thead th {\n",
       "        text-align: right;\n",
       "    }\n",
       "</style>\n",
       "<table border=\"1\" class=\"dataframe\">\n",
       "  <thead>\n",
       "    <tr style=\"text-align: right;\">\n",
       "      <th></th>\n",
       "      <th>user</th>\n",
       "      <th>location</th>\n",
       "    </tr>\n",
       "  </thead>\n",
       "  <tbody>\n",
       "    <tr>\n",
       "      <th>0</th>\n",
       "      <td>SunoResearchcom</td>\n",
       "      <td>Sao Paulo, Brazil</td>\n",
       "    </tr>\n",
       "    <tr>\n",
       "      <th>1</th>\n",
       "      <td>SoliensS</td>\n",
       "      <td></td>\n",
       "    </tr>\n",
       "    <tr>\n",
       "      <th>2</th>\n",
       "      <td>logweb_editora</td>\n",
       "      <td>São Paulo, Brasil</td>\n",
       "    </tr>\n",
       "    <tr>\n",
       "      <th>3</th>\n",
       "      <td>investe1tempo</td>\n",
       "      <td></td>\n",
       "    </tr>\n",
       "    <tr>\n",
       "      <th>4</th>\n",
       "      <td>nfinvestimentos</td>\n",
       "      <td></td>\n",
       "    </tr>\n",
       "  </tbody>\n",
       "</table>\n",
       "</div>"
      ],
      "text/plain": [
       "              user           location\n",
       "0  SunoResearchcom  Sao Paulo, Brazil\n",
       "1         SoliensS                   \n",
       "2   logweb_editora  São Paulo, Brasil\n",
       "3    investe1tempo                   \n",
       "4  nfinvestimentos                   "
      ]
     },
     "execution_count": 27,
     "metadata": {},
     "output_type": "execute_result"
    }
   ],
   "source": [
    "tweet_text = pd.DataFrame(data=users_locs, \n",
    "                    columns=['user', \"location\"])\n",
    "tweet_text\n"
   ]
  },
  {
   "cell_type": "code",
   "execution_count": 36,
   "metadata": {},
   "outputs": [
    {
     "data": {
      "text/plain": [
       "['feliz dia dos namorados, ambev',\n",
       " 'Dia dos namorados:\\n👦🏽📞Alô\\n👩🏻📞Oi\\n👦🏽📞Só liguei pra dizer que eu te amo e não vivo sem vc❤\\n👩🏻📞Moço, aqui é da Ambev 🍺🍻\\n👦🏽📞Eu sei 😍❤🍺😂😂😂',\n",
       " 'FUMO, ARMAS, AMBEV E TUDO O QUE NÃO PRESTA É ALIADO DESSE MERDA  - Indústria do cigarro vê Bolsonaro como grande al… https://t.co/eV3crrr5yB',\n",
       " 'Só to pensando na festinha junina da ambev na sexta',\n",
       " '💘Dia dos Namorados💘\\n\\n👦🏻📞: Alô \\n👩🏻📞: Oi\\n👦🏻📞: Eu só liguei pra dizer que te amo muito e ñ vivo sem vc 😘😍😋\\n👩🏻📞: Moço a… https://t.co/QZc1XXycWq']"
      ]
     },
     "execution_count": 36,
     "metadata": {},
     "output_type": "execute_result"
    }
   ],
   "source": [
    "new_search = \"ambev -filter:retweets\"\n",
    "\n",
    "tweets = tw.Cursor(api.search,\n",
    "                   q=new_search,\n",
    "                   lang=\"pt\",\n",
    "                   since='2014-04-23').items(1000)\n",
    "\n",
    "all_tweets = [tweet.text for tweet in tweets]\n",
    "all_tweets[:5]\n"
   ]
  },
  {
   "cell_type": "code",
   "execution_count": 37,
   "metadata": {},
   "outputs": [
    {
     "data": {
      "text/plain": [
       "808"
      ]
     },
     "execution_count": 37,
     "metadata": {},
     "output_type": "execute_result"
    }
   ],
   "source": [
    "len(all_tweets)"
   ]
  },
  {
   "cell_type": "code",
   "execution_count": null,
   "metadata": {},
   "outputs": [],
   "source": []
  }
 ],
 "metadata": {
  "kernelspec": {
   "display_name": "Python 3",
   "language": "python",
   "name": "python3"
  },
  "language_info": {
   "codemirror_mode": {
    "name": "ipython",
    "version": 3
   },
   "file_extension": ".py",
   "mimetype": "text/x-python",
   "name": "python",
   "nbconvert_exporter": "python",
   "pygments_lexer": "ipython3",
   "version": "3.7.3"
  }
 },
 "nbformat": 4,
 "nbformat_minor": 2
}
